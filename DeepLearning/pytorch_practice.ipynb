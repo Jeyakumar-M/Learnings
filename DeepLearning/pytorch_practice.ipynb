{
  "nbformat": 4,
  "nbformat_minor": 0,
  "metadata": {
    "colab": {
      "provenance": [],
      "authorship_tag": "ABX9TyPxrM5ZcWP4aYCwKSlcBSv5",
      "include_colab_link": true
    },
    "kernelspec": {
      "name": "python3",
      "display_name": "Python 3"
    },
    "language_info": {
      "name": "python"
    }
  },
  "cells": [
    {
      "cell_type": "markdown",
      "metadata": {
        "id": "view-in-github",
        "colab_type": "text"
      },
      "source": [
        "<a href=\"https://colab.research.google.com/github/Jeyakumar-M/Learnings/blob/main/DeepLearning/pytorch_practice.ipynb\" target=\"_parent\"><img src=\"https://colab.research.google.com/assets/colab-badge.svg\" alt=\"Open In Colab\"/></a>"
      ]
    },
    {
      "cell_type": "code",
      "execution_count": 2,
      "metadata": {
        "colab": {
          "base_uri": "https://localhost:8080/"
        },
        "id": "4vUh6wl_LB7f",
        "outputId": "c1afd94f-bbae-46ab-f86e-4cea09bab85f"
      },
      "outputs": [
        {
          "output_type": "stream",
          "name": "stdout",
          "text": [
            "2.3.0+cu121\n"
          ]
        }
      ],
      "source": [
        "import torch\n",
        "import pandas as pd\n",
        "import numpy as np\n",
        "import matplotlib.pyplot as plt\n",
        "print(torch.__version__)"
      ]
    },
    {
      "cell_type": "markdown",
      "source": [
        "## Introduction to Tensors\n",
        "tensors - multi dimentional numerical objects\n",
        "# Creating Tensors"
      ],
      "metadata": {
        "id": "hdWCpk97M9LJ"
      }
    },
    {
      "cell_type": "code",
      "source": [
        "# we can create tensors using torch.tensor()\n",
        "# single value is known as scaler\n",
        "scalar = torch.tensor(5)\n",
        "scalar"
      ],
      "metadata": {
        "colab": {
          "base_uri": "https://localhost:8080/"
        },
        "id": "swx98U77MRpS",
        "outputId": "c49a4b6c-a37c-4dc4-bab0-697faee0b1df"
      },
      "execution_count": null,
      "outputs": [
        {
          "output_type": "execute_result",
          "data": {
            "text/plain": [
              "tensor(5)"
            ]
          },
          "metadata": {},
          "execution_count": 2
        }
      ]
    },
    {
      "cell_type": "code",
      "source": [
        "scalar.ndim"
      ],
      "metadata": {
        "colab": {
          "base_uri": "https://localhost:8080/"
        },
        "id": "sLRwLgQmMRaC",
        "outputId": "d42112ca-bab4-41c7-a467-3ba6036700fc"
      },
      "execution_count": null,
      "outputs": [
        {
          "output_type": "execute_result",
          "data": {
            "text/plain": [
              "0"
            ]
          },
          "metadata": {},
          "execution_count": 3
        }
      ]
    },
    {
      "cell_type": "code",
      "source": [
        "# represents the normal integer value\n",
        "scalar.item()"
      ],
      "metadata": {
        "colab": {
          "base_uri": "https://localhost:8080/"
        },
        "id": "0rrQ6o5rONPp",
        "outputId": "6cf29155-704d-42fc-d0e8-23c3eeff2070"
      },
      "execution_count": null,
      "outputs": [
        {
          "output_type": "execute_result",
          "data": {
            "text/plain": [
              "5"
            ]
          },
          "metadata": {},
          "execution_count": 4
        }
      ]
    },
    {
      "cell_type": "code",
      "source": [
        "# vector\n",
        "vector = torch.tensor([2,3])\n",
        "vector"
      ],
      "metadata": {
        "colab": {
          "base_uri": "https://localhost:8080/"
        },
        "id": "sT6kNk-aONS6",
        "outputId": "b8c35d0f-2f7b-4f42-d63b-8c4b0ed103e9"
      },
      "execution_count": null,
      "outputs": [
        {
          "output_type": "execute_result",
          "data": {
            "text/plain": [
              "tensor([2, 3])"
            ]
          },
          "metadata": {},
          "execution_count": 5
        }
      ]
    },
    {
      "cell_type": "code",
      "source": [
        "vector.ndim"
      ],
      "metadata": {
        "colab": {
          "base_uri": "https://localhost:8080/"
        },
        "id": "yZ7pAAyFONWB",
        "outputId": "5cb360d1-b52d-4f70-f96e-2843c3c70955"
      },
      "execution_count": null,
      "outputs": [
        {
          "output_type": "execute_result",
          "data": {
            "text/plain": [
              "1"
            ]
          },
          "metadata": {},
          "execution_count": 8
        }
      ]
    },
    {
      "cell_type": "code",
      "source": [
        "vector.shape"
      ],
      "metadata": {
        "colab": {
          "base_uri": "https://localhost:8080/"
        },
        "id": "4S3q8uFxONZP",
        "outputId": "d9e273fe-c61d-425a-8ac2-8a6292714460"
      },
      "execution_count": null,
      "outputs": [
        {
          "output_type": "execute_result",
          "data": {
            "text/plain": [
              "torch.Size([2])"
            ]
          },
          "metadata": {},
          "execution_count": 9
        }
      ]
    },
    {
      "cell_type": "code",
      "source": [
        "# Matrix\n",
        "matrix = torch.tensor([[1,2,3], [4,5,6], [7,8,9]])\n",
        "matrix"
      ],
      "metadata": {
        "colab": {
          "base_uri": "https://localhost:8080/"
        },
        "id": "18E7--iXPJF1",
        "outputId": "4dc74e5f-2846-4f6b-a7fb-b955b9d40067"
      },
      "execution_count": null,
      "outputs": [
        {
          "output_type": "execute_result",
          "data": {
            "text/plain": [
              "tensor([[1, 2, 3],\n",
              "        [4, 5, 6],\n",
              "        [7, 8, 9]])"
            ]
          },
          "metadata": {},
          "execution_count": 2
        }
      ]
    },
    {
      "cell_type": "code",
      "source": [
        "matrix.shape"
      ],
      "metadata": {
        "id": "Hm2UR9aNPJBd",
        "colab": {
          "base_uri": "https://localhost:8080/"
        },
        "outputId": "e248fc10-c423-4027-f2f7-9d6463f88ced"
      },
      "execution_count": null,
      "outputs": [
        {
          "output_type": "execute_result",
          "data": {
            "text/plain": [
              "torch.Size([3, 3])"
            ]
          },
          "metadata": {},
          "execution_count": 3
        }
      ]
    },
    {
      "cell_type": "code",
      "source": [
        "matrix.ndim"
      ],
      "metadata": {
        "id": "VRGDvjzWPZDo",
        "outputId": "b8a965e5-f6c4-42d7-d540-395b90e2b9fe",
        "colab": {
          "base_uri": "https://localhost:8080/"
        }
      },
      "execution_count": null,
      "outputs": [
        {
          "output_type": "execute_result",
          "data": {
            "text/plain": [
              "2"
            ]
          },
          "metadata": {},
          "execution_count": 4
        }
      ]
    },
    {
      "cell_type": "code",
      "source": [
        "matrix[1]"
      ],
      "metadata": {
        "id": "1wNvkyr-PY_k",
        "colab": {
          "base_uri": "https://localhost:8080/"
        },
        "outputId": "4e788f3c-8fac-4544-b060-97d397b5d282"
      },
      "execution_count": null,
      "outputs": [
        {
          "output_type": "execute_result",
          "data": {
            "text/plain": [
              "tensor([4, 5, 6])"
            ]
          },
          "metadata": {},
          "execution_count": 5
        }
      ]
    },
    {
      "cell_type": "code",
      "source": [
        "#TENSOR\n",
        "TENSOR = torch.tensor([[[1,2,3],[4,5,6],[7,8,0]]])\n",
        "TENSOR"
      ],
      "metadata": {
        "colab": {
          "base_uri": "https://localhost:8080/"
        },
        "id": "j1xe5_0lQ4wY",
        "outputId": "09325e9d-3986-44da-c686-bab78ff3a9c2"
      },
      "execution_count": null,
      "outputs": [
        {
          "output_type": "execute_result",
          "data": {
            "text/plain": [
              "tensor([[[1, 2, 3],\n",
              "         [4, 5, 6],\n",
              "         [7, 8, 0]]])"
            ]
          },
          "metadata": {},
          "execution_count": 6
        }
      ]
    },
    {
      "cell_type": "code",
      "source": [
        "TENSOR.shape"
      ],
      "metadata": {
        "colab": {
          "base_uri": "https://localhost:8080/"
        },
        "id": "6bagq5tZQ4sx",
        "outputId": "ca0d76dc-5a02-4b4c-ca39-470d3cac6d66"
      },
      "execution_count": null,
      "outputs": [
        {
          "output_type": "execute_result",
          "data": {
            "text/plain": [
              "torch.Size([1, 3, 3])"
            ]
          },
          "metadata": {},
          "execution_count": 7
        }
      ]
    },
    {
      "cell_type": "code",
      "source": [
        "TENSOR.ndim"
      ],
      "metadata": {
        "colab": {
          "base_uri": "https://localhost:8080/"
        },
        "id": "gSUvjE3YQ4pp",
        "outputId": "5c443911-85b7-4889-d0c5-caf9ceecebee"
      },
      "execution_count": null,
      "outputs": [
        {
          "output_type": "execute_result",
          "data": {
            "text/plain": [
              "3"
            ]
          },
          "metadata": {},
          "execution_count": 8
        }
      ]
    },
    {
      "cell_type": "code",
      "source": [
        "TENSOR[0][0]"
      ],
      "metadata": {
        "colab": {
          "base_uri": "https://localhost:8080/"
        },
        "id": "vrlRNeHgQ4ly",
        "outputId": "8e0925ba-c7a6-44f3-b2b4-57cda6c12bb8"
      },
      "execution_count": null,
      "outputs": [
        {
          "output_type": "execute_result",
          "data": {
            "text/plain": [
              "tensor([1, 2, 3])"
            ]
          },
          "metadata": {},
          "execution_count": 11
        }
      ]
    },
    {
      "cell_type": "code",
      "source": [
        "TENSOR1 = torch.tensor([[[1,2,3],[4,5,6],[7,8,9]],\n",
        "                        [[2,3,4],[5,6,7],[8,9,0]]])\n",
        "TENSOR1"
      ],
      "metadata": {
        "colab": {
          "base_uri": "https://localhost:8080/"
        },
        "id": "D802ujeKRccw",
        "outputId": "ea2ac928-6fb5-46ea-ff36-f3b82bf07cf1"
      },
      "execution_count": null,
      "outputs": [
        {
          "output_type": "execute_result",
          "data": {
            "text/plain": [
              "tensor([[[1, 2, 3],\n",
              "         [4, 5, 6],\n",
              "         [7, 8, 9]],\n",
              "\n",
              "        [[2, 3, 4],\n",
              "         [5, 6, 7],\n",
              "         [8, 9, 0]]])"
            ]
          },
          "metadata": {},
          "execution_count": 15
        }
      ]
    },
    {
      "cell_type": "code",
      "source": [
        "TENSOR1.shape"
      ],
      "metadata": {
        "colab": {
          "base_uri": "https://localhost:8080/"
        },
        "id": "UUdg3BW9SDXu",
        "outputId": "1d738c6d-9f3f-4ee4-dde5-edf8afee4c3d"
      },
      "execution_count": null,
      "outputs": [
        {
          "output_type": "execute_result",
          "data": {
            "text/plain": [
              "torch.Size([2, 3, 3])"
            ]
          },
          "metadata": {},
          "execution_count": 16
        }
      ]
    },
    {
      "cell_type": "code",
      "source": [
        "TENSOR1.ndim"
      ],
      "metadata": {
        "colab": {
          "base_uri": "https://localhost:8080/"
        },
        "id": "6UZhiZgpSDUW",
        "outputId": "15d64b09-9b8f-477d-d9bc-68f57e94e93d"
      },
      "execution_count": null,
      "outputs": [
        {
          "output_type": "execute_result",
          "data": {
            "text/plain": [
              "3"
            ]
          },
          "metadata": {},
          "execution_count": 17
        }
      ]
    },
    {
      "cell_type": "code",
      "source": [
        "TENSOR1[1][0][1]"
      ],
      "metadata": {
        "colab": {
          "base_uri": "https://localhost:8080/"
        },
        "id": "DtQC4zWfSDRf",
        "outputId": "6e8a4c76-12bd-4893-d6d7-e7d506a7fc20"
      },
      "execution_count": null,
      "outputs": [
        {
          "output_type": "execute_result",
          "data": {
            "text/plain": [
              "tensor(3)"
            ]
          },
          "metadata": {},
          "execution_count": 23
        }
      ]
    },
    {
      "cell_type": "markdown",
      "source": [
        "## Random Tensors"
      ],
      "metadata": {
        "id": "_rj0Ae45UYf7"
      }
    },
    {
      "cell_type": "markdown",
      "source": [
        "The thing why we need random tensors is many neural networks learns with tensors full of random numbers.\n",
        "\n",
        "`Start with random numbers -> look at data -> update random numbers -> look at data -> update random numbers`"
      ],
      "metadata": {
        "id": "PeBb6Q-dUxvV"
      }
    },
    {
      "cell_type": "code",
      "source": [
        "# to create a random tensor of size(3,3)\n",
        "random_tensor = torch.rand(3,3)\n",
        "random_tensor"
      ],
      "metadata": {
        "colab": {
          "base_uri": "https://localhost:8080/"
        },
        "id": "qcAwDQEbUeif",
        "outputId": "cab8c3a3-641f-4585-9983-9c9707faf33e"
      },
      "execution_count": null,
      "outputs": [
        {
          "output_type": "execute_result",
          "data": {
            "text/plain": [
              "tensor([[0.4332, 0.5881, 0.4528],\n",
              "        [0.4887, 0.5225, 0.3095],\n",
              "        [0.4706, 0.9388, 0.8648]])"
            ]
          },
          "metadata": {},
          "execution_count": 24
        }
      ]
    },
    {
      "cell_type": "code",
      "source": [
        "rand_tensor = torch.rand(5,5,5)\n",
        "rand_tensor"
      ],
      "metadata": {
        "colab": {
          "base_uri": "https://localhost:8080/"
        },
        "id": "0iM_kX56VyzI",
        "outputId": "28044d20-6cdb-41c6-8c87-6b92fc838333"
      },
      "execution_count": null,
      "outputs": [
        {
          "output_type": "execute_result",
          "data": {
            "text/plain": [
              "tensor([[[0.0453, 0.2699, 0.9944, 0.4020, 0.2978],\n",
              "         [0.6314, 0.9492, 0.1711, 0.8930, 0.4773],\n",
              "         [0.7220, 0.0354, 0.5601, 0.7552, 0.0736],\n",
              "         [0.3528, 0.9262, 0.5396, 0.9220, 0.0473],\n",
              "         [0.9628, 0.3481, 0.7733, 0.0256, 0.3944]],\n",
              "\n",
              "        [[0.5615, 0.0924, 0.7252, 0.7588, 0.6852],\n",
              "         [0.6299, 0.9559, 0.2746, 0.5524, 0.1053],\n",
              "         [0.2321, 0.7987, 0.2874, 0.8829, 0.2682],\n",
              "         [0.6354, 0.8883, 0.1866, 0.4468, 0.5713],\n",
              "         [0.7767, 0.0605, 0.2170, 0.6862, 0.9124]],\n",
              "\n",
              "        [[0.1099, 0.3090, 0.6197, 0.9133, 0.7953],\n",
              "         [0.3714, 0.6502, 0.9888, 0.2721, 0.9915],\n",
              "         [0.2516, 0.2876, 0.3053, 0.7816, 0.2130],\n",
              "         [0.4749, 0.3775, 0.2236, 0.3020, 0.5756],\n",
              "         [0.8309, 0.6070, 0.1766, 0.5378, 0.3437]],\n",
              "\n",
              "        [[0.6737, 0.9131, 0.4980, 0.8451, 0.4017],\n",
              "         [0.4584, 0.8124, 0.6849, 0.6740, 0.0268],\n",
              "         [0.5902, 0.5547, 0.0060, 0.2896, 0.5130],\n",
              "         [0.2743, 0.8551, 0.8446, 0.3942, 0.2375],\n",
              "         [0.3591, 0.1257, 0.7353, 0.3009, 0.9126]],\n",
              "\n",
              "        [[0.8292, 0.0689, 0.8844, 0.7746, 0.0648],\n",
              "         [0.7383, 0.5193, 0.4094, 0.4787, 0.8217],\n",
              "         [0.8298, 0.3077, 0.4275, 0.1911, 0.9259],\n",
              "         [0.7214, 0.8357, 0.4829, 0.1275, 0.9634],\n",
              "         [0.1147, 0.9275, 0.0020, 0.6819, 0.6171]]])"
            ]
          },
          "metadata": {},
          "execution_count": 25
        }
      ]
    },
    {
      "cell_type": "code",
      "source": [
        "rand_tensor.shape"
      ],
      "metadata": {
        "colab": {
          "base_uri": "https://localhost:8080/"
        },
        "id": "9RNi36xYV_XM",
        "outputId": "8da96f6d-bdfc-4082-ac6d-218fc7236962"
      },
      "execution_count": null,
      "outputs": [
        {
          "output_type": "execute_result",
          "data": {
            "text/plain": [
              "torch.Size([5, 5, 5])"
            ]
          },
          "metadata": {},
          "execution_count": 26
        }
      ]
    },
    {
      "cell_type": "code",
      "source": [
        "# to create a tensor which has similiar shape to an image tensor\n",
        "random_image_size_tensor = torch.rand(size=(224,224,3)) # height, width, color channel(RGB)\n",
        "random_image_size_tensor.shape, random_image_size_tensor.ndim"
      ],
      "metadata": {
        "colab": {
          "base_uri": "https://localhost:8080/"
        },
        "id": "WcvLdIBkWrcu",
        "outputId": "20541695-d250-441b-8a00-2b42aaaa775d"
      },
      "execution_count": null,
      "outputs": [
        {
          "output_type": "execute_result",
          "data": {
            "text/plain": [
              "(torch.Size([224, 224, 3]), 3)"
            ]
          },
          "metadata": {},
          "execution_count": 28
        }
      ]
    },
    {
      "cell_type": "code",
      "source": [
        "random_image_size_tensor[:2]"
      ],
      "metadata": {
        "colab": {
          "base_uri": "https://localhost:8080/"
        },
        "id": "hf8-7zu1Xcl8",
        "outputId": "640db7b0-e3c2-4e7f-c482-b9c4a2df5097"
      },
      "execution_count": null,
      "outputs": [
        {
          "output_type": "execute_result",
          "data": {
            "text/plain": [
              "tensor([[[0.7075, 0.0664, 0.2410],\n",
              "         [0.1487, 0.6459, 0.2021],\n",
              "         [0.0575, 0.5170, 0.9599],\n",
              "         ...,\n",
              "         [0.6228, 0.1344, 0.1231],\n",
              "         [0.5356, 0.4020, 0.9970],\n",
              "         [0.8234, 0.6750, 0.1802]],\n",
              "\n",
              "        [[0.3350, 0.0207, 0.2667],\n",
              "         [0.3804, 0.5202, 0.4795],\n",
              "         [0.3642, 0.1032, 0.5504],\n",
              "         ...,\n",
              "         [0.7041, 0.7818, 0.7376],\n",
              "         [0.7014, 0.4641, 0.0352],\n",
              "         [0.6823, 0.4729, 0.3605]]])"
            ]
          },
          "metadata": {},
          "execution_count": 30
        }
      ]
    },
    {
      "cell_type": "markdown",
      "source": [
        "### Zeros and Ones"
      ],
      "metadata": {
        "id": "neZ1vH52YXr3"
      }
    },
    {
      "cell_type": "code",
      "source": [
        "# to create a tensor with zeros\n",
        "zeros = torch.zeros(2,3)\n",
        "zeros"
      ],
      "metadata": {
        "colab": {
          "base_uri": "https://localhost:8080/"
        },
        "id": "azzg_eqjYUVT",
        "outputId": "56f288ba-413c-44ef-f77a-438249cfecfe"
      },
      "execution_count": null,
      "outputs": [
        {
          "output_type": "execute_result",
          "data": {
            "text/plain": [
              "tensor([[0., 0., 0.],\n",
              "        [0., 0., 0.]])"
            ]
          },
          "metadata": {},
          "execution_count": 31
        }
      ]
    },
    {
      "cell_type": "code",
      "source": [
        "# to create a tensor with ones\n",
        "ones = torch.ones(4,4)\n",
        "ones"
      ],
      "metadata": {
        "colab": {
          "base_uri": "https://localhost:8080/"
        },
        "id": "CDg5Sbp_YUR8",
        "outputId": "5b3db74e-2405-41a4-f692-7d0fee443039"
      },
      "execution_count": null,
      "outputs": [
        {
          "output_type": "execute_result",
          "data": {
            "text/plain": [
              "tensor([[1., 1., 1., 1.],\n",
              "        [1., 1., 1., 1.],\n",
              "        [1., 1., 1., 1.],\n",
              "        [1., 1., 1., 1.]])"
            ]
          },
          "metadata": {},
          "execution_count": 28
        }
      ]
    },
    {
      "cell_type": "code",
      "source": [
        "ones.dtype"
      ],
      "metadata": {
        "colab": {
          "base_uri": "https://localhost:8080/"
        },
        "id": "5Zyz8sN7YUN7",
        "outputId": "808154bc-6f24-435d-cf33-3645cbdb51dc"
      },
      "execution_count": null,
      "outputs": [
        {
          "output_type": "execute_result",
          "data": {
            "text/plain": [
              "torch.float32"
            ]
          },
          "metadata": {},
          "execution_count": 29
        }
      ]
    },
    {
      "cell_type": "markdown",
      "source": [
        "## Create a range of tensors"
      ],
      "metadata": {
        "id": "zbNsoVBTeP_C"
      }
    },
    {
      "cell_type": "code",
      "source": [
        "torch.range(5,20)"
      ],
      "metadata": {
        "colab": {
          "base_uri": "https://localhost:8080/"
        },
        "id": "ugYHmcZ6eWwW",
        "outputId": "8eaad4fc-56b7-4e56-eff6-0cd4894dc53d"
      },
      "execution_count": null,
      "outputs": [
        {
          "output_type": "stream",
          "name": "stderr",
          "text": [
            "<ipython-input-34-e9c547590717>:1: UserWarning: torch.range is deprecated and will be removed in a future release because its behavior is inconsistent with Python's range builtin. Instead, use torch.arange, which produces values in [start, end).\n",
            "  torch.range(5,20)\n"
          ]
        },
        {
          "output_type": "execute_result",
          "data": {
            "text/plain": [
              "tensor([ 5.,  6.,  7.,  8.,  9., 10., 11., 12., 13., 14., 15., 16., 17., 18.,\n",
              "        19., 20.])"
            ]
          },
          "metadata": {},
          "execution_count": 34
        }
      ]
    },
    {
      "cell_type": "code",
      "source": [
        "two_to_20 = torch.arange(2,20,4)"
      ],
      "metadata": {
        "id": "genOwxplgsEF"
      },
      "execution_count": null,
      "outputs": []
    },
    {
      "cell_type": "code",
      "source": [
        "# to create tensors like other tensors\n",
        "zeros1 = torch.zeros_like(two_to_20)\n",
        "zeros1"
      ],
      "metadata": {
        "colab": {
          "base_uri": "https://localhost:8080/"
        },
        "id": "iSb5wWdXh-Fc",
        "outputId": "a4ba5206-d69d-4cda-c095-f4cab80e4be1"
      },
      "execution_count": null,
      "outputs": [
        {
          "output_type": "execute_result",
          "data": {
            "text/plain": [
              "tensor([0, 0, 0, 0, 0])"
            ]
          },
          "metadata": {},
          "execution_count": 41
        }
      ]
    },
    {
      "cell_type": "code",
      "source": [
        "# default datatype of a tensor is float32\n",
        "\n",
        "t1 = torch.tensor([1.0,2,3],\n",
        "                  dtype=torch.float32,\n",
        "                  device=None,\n",
        "                  requires_grad=False)\n",
        "t1.device, t1.dtype, t1.shape"
      ],
      "metadata": {
        "id": "S-K25w_3kFHh",
        "outputId": "0fe87fad-2217-4617-f3e9-92085ba1388c",
        "colab": {
          "base_uri": "https://localhost:8080/"
        }
      },
      "execution_count": null,
      "outputs": [
        {
          "output_type": "execute_result",
          "data": {
            "text/plain": [
              "(device(type='cpu'), torch.float32, torch.Size([3]))"
            ]
          },
          "metadata": {},
          "execution_count": 27
        }
      ]
    },
    {
      "cell_type": "markdown",
      "source": [
        "#Tensor manipulations"
      ],
      "metadata": {
        "id": "WEwTR03Hffzu"
      }
    },
    {
      "cell_type": "code",
      "source": [
        "tensor1 = torch.tensor([1,2,3])\n",
        "print(\"Tensor addition: \",tensor1+tensor1)\n",
        "print(\"Tensor subtraction: \",tensor1-2)\n",
        "print(\"Tensor Multiplication (element wise): \",tensor1*5)\n",
        "print(\"Tensor Division: \",tensor1/2)\n",
        "print(\"Matrix Multiplication: \",torch.matmul(tensor1,tensor1))"
      ],
      "metadata": {
        "id": "PsD0zr3afm1u",
        "outputId": "8c72dda4-d7dc-45a0-8f0a-10c693aa36d5",
        "colab": {
          "base_uri": "https://localhost:8080/"
        }
      },
      "execution_count": null,
      "outputs": [
        {
          "output_type": "stream",
          "name": "stdout",
          "text": [
            "Tensor addition:  tensor([2, 4, 6])\n",
            "Tensor subtraction:  tensor([-1,  0,  1])\n",
            "Tensor Multiplication (element wise):  tensor([ 5, 10, 15])\n",
            "Tensor Division:  tensor([0.5000, 1.0000, 1.5000])\n",
            "Matrix Multiplication:  tensor(14)\n"
          ]
        }
      ]
    },
    {
      "cell_type": "code",
      "source": [
        "'''\n",
        "  Main rule for matrix multiplications\n",
        "  1. The inner imensions must be same\n",
        "  2. The result matrix should be in the shape of outer dimensions\n",
        "'''\n",
        "torch.matmul(torch.rand(3,2),torch.rand(2,3)) # torch.mm() is same as torch.matmul()"
      ],
      "metadata": {
        "id": "_o9KekV_3j-V",
        "outputId": "31fb4886-e5e6-49da-f020-9d081a5b5a66",
        "colab": {
          "base_uri": "https://localhost:8080/"
        }
      },
      "execution_count": null,
      "outputs": [
        {
          "output_type": "execute_result",
          "data": {
            "text/plain": [
              "tensor([[0.6439, 0.8702, 0.4666],\n",
              "        [0.1958, 0.2518, 0.1460],\n",
              "        [0.4177, 0.5543, 0.3059]])"
            ]
          },
          "metadata": {},
          "execution_count": 15
        }
      ]
    },
    {
      "cell_type": "code",
      "source": [
        "# To transpose a matrix we can use the .T operator\n",
        "tensor1 = torch.tensor([[1,2],\n",
        "                        [3,4],\n",
        "                        [5,6]])\n",
        "tensor2 = torch.tensor([[6,7],\n",
        "                        [8,9],\n",
        "                        [10,11]])\n",
        "print(f\"Actual shape: tensor1: {tensor1.shape}\\n {tensor1}\\n, tensor2: {tensor2.shape}\\n {tensor2}\")\n",
        "print(f\"After Transpose: shape: {tensor2.T.shape}, matrix:\\n {tensor2.T}\")\n",
        "torch.mm(tensor1,tensor2.T)"
      ],
      "metadata": {
        "id": "uG2zXnus3j7d",
        "outputId": "36627605-f138-4810-87cd-8122b055b24b",
        "colab": {
          "base_uri": "https://localhost:8080/"
        }
      },
      "execution_count": null,
      "outputs": [
        {
          "output_type": "stream",
          "name": "stdout",
          "text": [
            "Actual shape: tensor1: torch.Size([3, 2])\n",
            " tensor([[1, 2],\n",
            "        [3, 4],\n",
            "        [5, 6]])\n",
            ", tensor2: torch.Size([3, 2])\n",
            " tensor([[ 6,  7],\n",
            "        [ 8,  9],\n",
            "        [10, 11]])\n",
            "After Transpose: shape: torch.Size([2, 3]), matrix:\n",
            " tensor([[ 6,  8, 10],\n",
            "        [ 7,  9, 11]])\n"
          ]
        },
        {
          "output_type": "execute_result",
          "data": {
            "text/plain": [
              "tensor([[ 20,  26,  32],\n",
              "        [ 46,  60,  74],\n",
              "        [ 72,  94, 116]])"
            ]
          },
          "metadata": {},
          "execution_count": 19
        }
      ]
    },
    {
      "cell_type": "markdown",
      "source": [
        "# Tensor Aggregations"
      ],
      "metadata": {
        "id": "hi6iX0x642Jh"
      }
    },
    {
      "cell_type": "code",
      "source": [
        "x = torch.arange(0,100,9)\n",
        "x"
      ],
      "metadata": {
        "id": "cvsmAAz24giS",
        "outputId": "27becd1e-d663-4c2d-acd7-e0e407f5796b",
        "colab": {
          "base_uri": "https://localhost:8080/"
        }
      },
      "execution_count": null,
      "outputs": [
        {
          "output_type": "execute_result",
          "data": {
            "text/plain": [
              "tensor([ 0,  9, 18, 27, 36, 45, 54, 63, 72, 81, 90, 99])"
            ]
          },
          "metadata": {},
          "execution_count": 2
        }
      ]
    },
    {
      "cell_type": "code",
      "source": [
        "# find min and max\n",
        "print(\"Max: \",torch.max(x),x.max())\n",
        "print(\"Min: \",torch.min(x),x.min())"
      ],
      "metadata": {
        "id": "DZ8oUhxa3j4d",
        "outputId": "1bcdd752-4d62-46b3-e719-c8edf7749bbe",
        "colab": {
          "base_uri": "https://localhost:8080/"
        }
      },
      "execution_count": null,
      "outputs": [
        {
          "output_type": "stream",
          "name": "stdout",
          "text": [
            "Max:  tensor(99) tensor(99)\n",
            "Min:  tensor(0) tensor(0)\n"
          ]
        }
      ]
    },
    {
      "cell_type": "code",
      "source": [
        "# To find mean note: torch.mean() requires a tensor of float32 datatype so we have to convert the int64 tensor to float32 using the type convertor\n",
        "print(\"dtype: \",x.dtype)\n",
        "#print(x.mean())\n",
        "print(x.type(torch.float32).mean())\n",
        "print(torch.mean(x.type(torch.float32)))"
      ],
      "metadata": {
        "id": "ITMYBGEj3jx0",
        "outputId": "75c297ac-8c57-4ac4-c8ca-3531552c34ef",
        "colab": {
          "base_uri": "https://localhost:8080/"
        }
      },
      "execution_count": null,
      "outputs": [
        {
          "output_type": "stream",
          "name": "stdout",
          "text": [
            "dtype:  torch.int64\n",
            "tensor(49.5000)\n",
            "tensor(49.5000)\n"
          ]
        }
      ]
    },
    {
      "cell_type": "code",
      "source": [
        "# find sum\n",
        "torch.sum(x), x.sum()"
      ],
      "metadata": {
        "id": "nrJhDtSo3juV",
        "outputId": "48a1e048-7626-420e-c279-6d9b0fdc3b83",
        "colab": {
          "base_uri": "https://localhost:8080/"
        }
      },
      "execution_count": null,
      "outputs": [
        {
          "output_type": "execute_result",
          "data": {
            "text/plain": [
              "(tensor(594), tensor(594))"
            ]
          },
          "metadata": {},
          "execution_count": 25
        }
      ]
    },
    {
      "cell_type": "code",
      "source": [
        "# to find the min and max value index position we can use argmin() and argmax() functions\n",
        "print(x.argmin())\n",
        "print(x.argmax())"
      ],
      "metadata": {
        "id": "_zcRtnGdsyVv",
        "outputId": "7701a23d-17d8-4f14-e805-d81e0fda2c6f",
        "colab": {
          "base_uri": "https://localhost:8080/"
        }
      },
      "execution_count": null,
      "outputs": [
        {
          "output_type": "stream",
          "name": "stdout",
          "text": [
            "tensor(0)\n",
            "tensor(11)\n"
          ]
        }
      ]
    },
    {
      "cell_type": "markdown",
      "source": [
        "# reshaping, view, stack, squeeze, unsqueeze,"
      ],
      "metadata": {
        "id": "kI0MGfeJrSxv"
      }
    },
    {
      "cell_type": "code",
      "source": [
        "x = torch.arange(10)\n",
        "x"
      ],
      "metadata": {
        "id": "a-kKXy2ZtJdK",
        "outputId": "0415d42b-ad92-44b7-8e54-ceab7db95e22",
        "colab": {
          "base_uri": "https://localhost:8080/"
        }
      },
      "execution_count": null,
      "outputs": [
        {
          "output_type": "execute_result",
          "data": {
            "text/plain": [
              "tensor([0, 1, 2, 3, 4, 5, 6, 7, 8, 9])"
            ]
          },
          "metadata": {},
          "execution_count": 17
        }
      ]
    },
    {
      "cell_type": "code",
      "source": [
        "# reshaping - it will return a view(if the data is contiguous) or a copy( if the data is not contiguous - change in copy does not affect the original tensor)\n",
        "x_reshape = x.reshape(2,5)\n",
        "print(\"Actual: \",x_reshape)\n",
        "x_reshape[0,4] = 1000\n",
        "print(\"changed: \",x_reshape)\n",
        "print(\"tensor also changed: \",x)\n",
        "\n",
        "# changing in the actual tensor\n",
        "x[2] = 2546\n",
        "print(\"changed tensor: \",x)\n",
        "print(\"x_reshape: \",x_reshape)"
      ],
      "metadata": {
        "id": "bvw6Nb4ntQL9",
        "outputId": "1213ad21-9de9-4bc8-dfb4-261277c0076c",
        "colab": {
          "base_uri": "https://localhost:8080/"
        }
      },
      "execution_count": null,
      "outputs": [
        {
          "output_type": "stream",
          "name": "stdout",
          "text": [
            "Actual:  tensor([[   0,    1,   22,    3, 1000],\n",
            "        [   5,    6,    7,    8,    9]])\n",
            "changed:  tensor([[   0,    1,   22,    3, 1000],\n",
            "        [   5,    6,    7,    8,    9]])\n",
            "tensor also changed:  tensor([   0,    1,   22,    3, 1000,    5,    6,    7,    8,    9])\n",
            "changed tensor:  tensor([   0,    1, 2546,    3, 1000,    5,    6,    7,    8,    9])\n",
            "x_reshape:  tensor([[   0,    1, 2546,    3, 1000],\n",
            "        [   5,    6,    7,    8,    9]])\n"
          ]
        }
      ]
    },
    {
      "cell_type": "code",
      "source": [
        "# view - same as reshaping but it shares the same memory. it does not create a copy of the tensor\n",
        "x_view = x.view(5,2)\n",
        "print(\"view: \",x_view)\n",
        "x_view[1,0] = 22\n",
        "print(\"view changed: \", x_view)\n",
        "print(\"original also changed: \",x)"
      ],
      "metadata": {
        "id": "Jhq_MVowuxez",
        "outputId": "692c9bfe-e948-430a-b969-bfafb1dbec10",
        "colab": {
          "base_uri": "https://localhost:8080/"
        }
      },
      "execution_count": null,
      "outputs": [
        {
          "output_type": "stream",
          "name": "stdout",
          "text": [
            "view:  tensor([[   0,    1],\n",
            "        [   2,    3],\n",
            "        [1000,    5],\n",
            "        [   6,    7],\n",
            "        [   8,    9]])\n",
            "view changed:  tensor([[   0,    1],\n",
            "        [  22,    3],\n",
            "        [1000,    5],\n",
            "        [   6,    7],\n",
            "        [   8,    9]])\n",
            "original also changed:  tensor([   0,    1,   22,    3, 1000,    5,    6,    7,    8,    9])\n"
          ]
        }
      ]
    },
    {
      "cell_type": "code",
      "source": [
        "# Stack - combining tensors on top of each others. vstack and hstack\n",
        "x_stack = torch.stack([x,x,x],dim=1)\n",
        "x_stack"
      ],
      "metadata": {
        "id": "bwQE-auTwreT",
        "outputId": "a5bf457a-f93e-41f3-9a91-1f739681c3d0",
        "colab": {
          "base_uri": "https://localhost:8080/"
        }
      },
      "execution_count": null,
      "outputs": [
        {
          "output_type": "execute_result",
          "data": {
            "text/plain": [
              "tensor([[   0,    0,    0],\n",
              "        [   1,    1,    1],\n",
              "        [2546, 2546, 2546],\n",
              "        [   3,    3,    3],\n",
              "        [1000, 1000, 1000],\n",
              "        [   5,    5,    5],\n",
              "        [   6,    6,    6],\n",
              "        [   7,    7,    7],\n",
              "        [   8,    8,    8],\n",
              "        [   9,    9,    9]])"
            ]
          },
          "metadata": {},
          "execution_count": 29
        }
      ]
    },
    {
      "cell_type": "code",
      "source": [
        "x_stack = torch.stack([x,x,x],dim=0)\n",
        "x_stack"
      ],
      "metadata": {
        "id": "1GVW_lnzyxSN",
        "outputId": "9f87ad98-61d8-4978-b0df-b94d92b3f2e9",
        "colab": {
          "base_uri": "https://localhost:8080/"
        }
      },
      "execution_count": null,
      "outputs": [
        {
          "output_type": "execute_result",
          "data": {
            "text/plain": [
              "tensor([[   0,    1, 2546,    3, 1000,    5,    6,    7,    8,    9],\n",
              "        [   0,    1, 2546,    3, 1000,    5,    6,    7,    8,    9],\n",
              "        [   0,    1, 2546,    3, 1000,    5,    6,    7,    8,    9]])"
            ]
          },
          "metadata": {},
          "execution_count": 31
        }
      ]
    },
    {
      "cell_type": "code",
      "source": [
        "# squeeze - remove all one dimensions from the tensor\n",
        "y = torch.rand(2,1,2,1)\n",
        "print(y)\n",
        "print(\"shape of y: \",y.shape)\n",
        "\n",
        "y_squeeze = y.squeeze()\n",
        "\n",
        "print(\"After squeeze: \",y_squeeze)\n",
        "print(\"new shape: \", y_squeeze.shape)"
      ],
      "metadata": {
        "id": "Q32T9QiL0S2K",
        "outputId": "dcbc8c2c-5e76-4815-9e6b-0dacc1b7f593",
        "colab": {
          "base_uri": "https://localhost:8080/"
        }
      },
      "execution_count": null,
      "outputs": [
        {
          "output_type": "stream",
          "name": "stdout",
          "text": [
            "tensor([[[[0.2277],\n",
            "          [0.6267]]],\n",
            "\n",
            "\n",
            "        [[[0.7261],\n",
            "          [0.1041]]]])\n",
            "shape of y:  torch.Size([2, 1, 2, 1])\n",
            "After squeeze:  tensor([[0.2277, 0.6267],\n",
            "        [0.7261, 0.1041]])\n",
            "new shape:  torch.Size([2, 2])\n"
          ]
        }
      ]
    },
    {
      "cell_type": "code",
      "source": [
        "# unsqueeze - adds one dimensions to the tensor\n",
        "y_unsqueezed = y_squeeze.unsqueeze(dim=-1)\n",
        "print(y_unsqueezed)\n",
        "print(\"unsqueezed shape: \",y_unsqueezed.shape)"
      ],
      "metadata": {
        "id": "sBa31vHn2Vxy",
        "outputId": "005446bd-3376-42dc-b486-2768c3d1ecbe",
        "colab": {
          "base_uri": "https://localhost:8080/"
        }
      },
      "execution_count": null,
      "outputs": [
        {
          "output_type": "stream",
          "name": "stdout",
          "text": [
            "tensor([[[0.2277],\n",
            "         [0.6267]],\n",
            "\n",
            "        [[0.7261],\n",
            "         [0.1041]]])\n",
            "unsqueezed shape:  torch.Size([2, 2, 1])\n"
          ]
        }
      ]
    },
    {
      "cell_type": "code",
      "source": [
        "# permute\n",
        "y_permute = y.permute(3,1,0,2)\n",
        "print(y_permute)"
      ],
      "metadata": {
        "id": "eEHNmg0G3DS3",
        "outputId": "a218cf10-8b42-4cbd-b341-19f32d662aee",
        "colab": {
          "base_uri": "https://localhost:8080/"
        }
      },
      "execution_count": null,
      "outputs": [
        {
          "output_type": "stream",
          "name": "stdout",
          "text": [
            "tensor([[[[0.2277, 0.6267],\n",
            "          [0.7261, 0.1041]]]])\n"
          ]
        }
      ]
    },
    {
      "cell_type": "markdown",
      "source": [
        "## Indexing"
      ],
      "metadata": {
        "id": "2zjaL6y4IfTw"
      }
    },
    {
      "cell_type": "code",
      "source": [
        "x = torch.arange(1,19).reshape(2,3,3)\n",
        "x"
      ],
      "metadata": {
        "id": "JUfhFiqIIiBn",
        "outputId": "a4acecce-fecf-46a4-bd16-2fc4cba141dd",
        "colab": {
          "base_uri": "https://localhost:8080/"
        }
      },
      "execution_count": 5,
      "outputs": [
        {
          "output_type": "execute_result",
          "data": {
            "text/plain": [
              "tensor([[[ 1,  2,  3],\n",
              "         [ 4,  5,  6],\n",
              "         [ 7,  8,  9]],\n",
              "\n",
              "        [[10, 11, 12],\n",
              "         [13, 14, 15],\n",
              "         [16, 17, 18]]])"
            ]
          },
          "metadata": {},
          "execution_count": 5
        }
      ]
    },
    {
      "cell_type": "code",
      "source": [
        "x[0]"
      ],
      "metadata": {
        "id": "6einpcbzIie6",
        "outputId": "5df3cdf7-53e6-4cb4-ef8c-97486b2552df",
        "colab": {
          "base_uri": "https://localhost:8080/"
        }
      },
      "execution_count": 6,
      "outputs": [
        {
          "output_type": "execute_result",
          "data": {
            "text/plain": [
              "tensor([[1, 2, 3],\n",
              "        [4, 5, 6],\n",
              "        [7, 8, 9]])"
            ]
          },
          "metadata": {},
          "execution_count": 6
        }
      ]
    },
    {
      "cell_type": "code",
      "source": [
        "x[:][1][:]"
      ],
      "metadata": {
        "id": "K4opMTnWIibn",
        "outputId": "261897ea-b694-49ab-f58f-f1e8dc951ab1",
        "colab": {
          "base_uri": "https://localhost:8080/"
        }
      },
      "execution_count": 21,
      "outputs": [
        {
          "output_type": "execute_result",
          "data": {
            "text/plain": [
              "tensor([[10, 11, 12],\n",
              "        [13, 14, 15],\n",
              "        [16, 17, 18]])"
            ]
          },
          "metadata": {},
          "execution_count": 21
        }
      ]
    },
    {
      "cell_type": "code",
      "source": [
        "x[:][1][1][:]"
      ],
      "metadata": {
        "id": "ieojdkanIiW3",
        "outputId": "4a40383a-5e0e-4c94-cdc6-8f14ae0bcf1c",
        "colab": {
          "base_uri": "https://localhost:8080/"
        }
      },
      "execution_count": 24,
      "outputs": [
        {
          "output_type": "execute_result",
          "data": {
            "text/plain": [
              "tensor([13, 14, 15])"
            ]
          },
          "metadata": {},
          "execution_count": 24
        }
      ]
    },
    {
      "cell_type": "code",
      "source": [
        "x[1][:][1][:][1]"
      ],
      "metadata": {
        "id": "Buku4NfgIiT_",
        "outputId": "9d652f29-8695-41fc-a1b9-8955e4506ab8",
        "colab": {
          "base_uri": "https://localhost:8080/"
        }
      },
      "execution_count": 30,
      "outputs": [
        {
          "output_type": "execute_result",
          "data": {
            "text/plain": [
              "tensor(14)"
            ]
          },
          "metadata": {},
          "execution_count": 30
        }
      ]
    },
    {
      "cell_type": "code",
      "source": [
        "x[:,1,:]"
      ],
      "metadata": {
        "id": "VbTgz4-mI3fp",
        "outputId": "3b5d36c8-e05e-4781-d968-f2485126ea57",
        "colab": {
          "base_uri": "https://localhost:8080/"
        }
      },
      "execution_count": 31,
      "outputs": [
        {
          "output_type": "execute_result",
          "data": {
            "text/plain": [
              "tensor([[ 4,  5,  6],\n",
              "        [13, 14, 15]])"
            ]
          },
          "metadata": {},
          "execution_count": 31
        }
      ]
    },
    {
      "cell_type": "code",
      "source": [
        "x[1,:,1]"
      ],
      "metadata": {
        "id": "uZ7aZX-EI3ce",
        "outputId": "3b834b9a-697e-4522-e274-66575173da25",
        "colab": {
          "base_uri": "https://localhost:8080/"
        }
      },
      "execution_count": 32,
      "outputs": [
        {
          "output_type": "execute_result",
          "data": {
            "text/plain": [
              "tensor([11, 14, 17])"
            ]
          },
          "metadata": {},
          "execution_count": 32
        }
      ]
    },
    {
      "cell_type": "code",
      "source": [
        "x[1, 1:, 1:]"
      ],
      "metadata": {
        "id": "cjDzBgi3KuFJ",
        "outputId": "ed787eac-cbeb-423e-ba36-f07dfc1a2504",
        "colab": {
          "base_uri": "https://localhost:8080/"
        }
      },
      "execution_count": 33,
      "outputs": [
        {
          "output_type": "execute_result",
          "data": {
            "text/plain": [
              "tensor([[14, 15],\n",
              "        [17, 18]])"
            ]
          },
          "metadata": {},
          "execution_count": 33
        }
      ]
    },
    {
      "cell_type": "code",
      "source": [
        "x[0, 1:, :]"
      ],
      "metadata": {
        "id": "_pvAi2JdLP84",
        "outputId": "aceee60c-06e6-475b-ba85-706784854cac",
        "colab": {
          "base_uri": "https://localhost:8080/"
        }
      },
      "execution_count": 34,
      "outputs": [
        {
          "output_type": "execute_result",
          "data": {
            "text/plain": [
              "tensor([[4, 5, 6],\n",
              "        [7, 8, 9]])"
            ]
          },
          "metadata": {},
          "execution_count": 34
        }
      ]
    },
    {
      "cell_type": "markdown",
      "source": [
        "# Pytorch Tensor and Numpy\n",
        "* we can convert tensor to numpy: torch.Tensor.numpy()\n",
        "* to create tensor from numpy array: torch.from_numpy()"
      ],
      "metadata": {
        "id": "_UwLXorjM5br"
      }
    },
    {
      "cell_type": "code",
      "source": [
        "# Numpy array to tensor\n",
        "import numpy as np\n",
        "array = np.arange(10,20)\n",
        "array, array.dtype"
      ],
      "metadata": {
        "id": "P8aVybaKNXWo",
        "outputId": "91aaaaba-4042-4913-b1b9-dec841c1cac0",
        "colab": {
          "base_uri": "https://localhost:8080/"
        }
      },
      "execution_count": 36,
      "outputs": [
        {
          "output_type": "execute_result",
          "data": {
            "text/plain": [
              "(array([10, 11, 12, 13, 14, 15, 16, 17, 18, 19]), dtype('int64'))"
            ]
          },
          "metadata": {},
          "execution_count": 36
        }
      ]
    },
    {
      "cell_type": "code",
      "source": [
        "tensor = torch.from_numpy(array)\n",
        "tensor, tensor.dtype # same as numpy dtype the changes does not affects other objects"
      ],
      "metadata": {
        "id": "ywM7IxSCNmhv",
        "outputId": "836bf778-a7d5-491a-d012-1facc71b84af",
        "colab": {
          "base_uri": "https://localhost:8080/"
        }
      },
      "execution_count": 37,
      "outputs": [
        {
          "output_type": "execute_result",
          "data": {
            "text/plain": [
              "(tensor([10, 11, 12, 13, 14, 15, 16, 17, 18, 19]), torch.int64)"
            ]
          },
          "metadata": {},
          "execution_count": 37
        }
      ]
    },
    {
      "cell_type": "code",
      "source": [
        "# Tensor to numpy array\n",
        "x = torch.rand(3,3)\n",
        "x, x.dtype"
      ],
      "metadata": {
        "id": "nXcbnydvOmMW",
        "outputId": "67a8156c-ae1d-4998-8961-218207b309ee",
        "colab": {
          "base_uri": "https://localhost:8080/"
        }
      },
      "execution_count": 39,
      "outputs": [
        {
          "output_type": "execute_result",
          "data": {
            "text/plain": [
              "(tensor([[0.6323, 0.0199, 0.3028],\n",
              "         [0.5220, 0.1634, 0.3790],\n",
              "         [0.7258, 0.2573, 0.7727]]),\n",
              " torch.float32)"
            ]
          },
          "metadata": {},
          "execution_count": 39
        }
      ]
    },
    {
      "cell_type": "code",
      "source": [
        "arr_from_tensor = x.numpy()\n",
        "arr_from_tensor, arr_from_tensor.dtype"
      ],
      "metadata": {
        "id": "9I5ouQOvOxU9",
        "outputId": "ec016544-9860-4576-ce26-81539aa0eb85",
        "colab": {
          "base_uri": "https://localhost:8080/"
        }
      },
      "execution_count": 40,
      "outputs": [
        {
          "output_type": "execute_result",
          "data": {
            "text/plain": [
              "(array([[0.6323389 , 0.01990068, 0.30283797],\n",
              "        [0.52203214, 0.16343057, 0.37898886],\n",
              "        [0.72576463, 0.25733978, 0.7726873 ]], dtype=float32),\n",
              " dtype('float32'))"
            ]
          },
          "metadata": {},
          "execution_count": 40
        }
      ]
    }
  ]
}