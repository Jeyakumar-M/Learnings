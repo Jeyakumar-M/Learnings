{
  "nbformat": 4,
  "nbformat_minor": 0,
  "metadata": {
    "colab": {
      "provenance": [],
      "authorship_tag": "ABX9TyOJ8eplvyd5N45KQ2dH865L",
      "include_colab_link": true
    },
    "kernelspec": {
      "name": "python3",
      "display_name": "Python 3"
    },
    "language_info": {
      "name": "python"
    }
  },
  "cells": [
    {
      "cell_type": "markdown",
      "metadata": {
        "id": "view-in-github",
        "colab_type": "text"
      },
      "source": [
        "<a href=\"https://colab.research.google.com/github/Jeyakumar-M/Learnings/blob/main/DeepLearning/pytorch_practice.ipynb\" target=\"_parent\"><img src=\"https://colab.research.google.com/assets/colab-badge.svg\" alt=\"Open In Colab\"/></a>"
      ]
    },
    {
      "cell_type": "code",
      "execution_count": null,
      "metadata": {
        "colab": {
          "base_uri": "https://localhost:8080/"
        },
        "id": "4vUh6wl_LB7f",
        "outputId": "f28d58f1-b24a-4ed6-c51d-41b67d341dac"
      },
      "outputs": [
        {
          "output_type": "stream",
          "name": "stdout",
          "text": [
            "2.3.0+cu121\n"
          ]
        }
      ],
      "source": [
        "import torch\n",
        "import pandas as pd\n",
        "import numpy as np\n",
        "import matplotlib.pyplot as plt\n",
        "print(torch.__version__)"
      ]
    },
    {
      "cell_type": "markdown",
      "source": [
        "## Introduction to Tensors\n",
        "tensors - multi dimentional numerical objects\n",
        "# Creating Tensors"
      ],
      "metadata": {
        "id": "hdWCpk97M9LJ"
      }
    },
    {
      "cell_type": "code",
      "source": [
        "# we can create tensors using torch.tensor()\n",
        "# single value is known as scaler\n",
        "scalar = torch.tensor(5)\n",
        "scalar"
      ],
      "metadata": {
        "colab": {
          "base_uri": "https://localhost:8080/"
        },
        "id": "swx98U77MRpS",
        "outputId": "c49a4b6c-a37c-4dc4-bab0-697faee0b1df"
      },
      "execution_count": null,
      "outputs": [
        {
          "output_type": "execute_result",
          "data": {
            "text/plain": [
              "tensor(5)"
            ]
          },
          "metadata": {},
          "execution_count": 2
        }
      ]
    },
    {
      "cell_type": "code",
      "source": [
        "scalar.ndim"
      ],
      "metadata": {
        "colab": {
          "base_uri": "https://localhost:8080/"
        },
        "id": "sLRwLgQmMRaC",
        "outputId": "d42112ca-bab4-41c7-a467-3ba6036700fc"
      },
      "execution_count": null,
      "outputs": [
        {
          "output_type": "execute_result",
          "data": {
            "text/plain": [
              "0"
            ]
          },
          "metadata": {},
          "execution_count": 3
        }
      ]
    },
    {
      "cell_type": "code",
      "source": [
        "# represents the normal integer value\n",
        "scalar.item()"
      ],
      "metadata": {
        "colab": {
          "base_uri": "https://localhost:8080/"
        },
        "id": "0rrQ6o5rONPp",
        "outputId": "6cf29155-704d-42fc-d0e8-23c3eeff2070"
      },
      "execution_count": null,
      "outputs": [
        {
          "output_type": "execute_result",
          "data": {
            "text/plain": [
              "5"
            ]
          },
          "metadata": {},
          "execution_count": 4
        }
      ]
    },
    {
      "cell_type": "code",
      "source": [
        "# vector\n",
        "vector = torch.tensor([2,3])\n",
        "vector"
      ],
      "metadata": {
        "colab": {
          "base_uri": "https://localhost:8080/"
        },
        "id": "sT6kNk-aONS6",
        "outputId": "b8c35d0f-2f7b-4f42-d63b-8c4b0ed103e9"
      },
      "execution_count": null,
      "outputs": [
        {
          "output_type": "execute_result",
          "data": {
            "text/plain": [
              "tensor([2, 3])"
            ]
          },
          "metadata": {},
          "execution_count": 5
        }
      ]
    },
    {
      "cell_type": "code",
      "source": [
        "vector.ndim"
      ],
      "metadata": {
        "colab": {
          "base_uri": "https://localhost:8080/"
        },
        "id": "yZ7pAAyFONWB",
        "outputId": "5cb360d1-b52d-4f70-f96e-2843c3c70955"
      },
      "execution_count": null,
      "outputs": [
        {
          "output_type": "execute_result",
          "data": {
            "text/plain": [
              "1"
            ]
          },
          "metadata": {},
          "execution_count": 8
        }
      ]
    },
    {
      "cell_type": "code",
      "source": [
        "vector.shape"
      ],
      "metadata": {
        "colab": {
          "base_uri": "https://localhost:8080/"
        },
        "id": "4S3q8uFxONZP",
        "outputId": "d9e273fe-c61d-425a-8ac2-8a6292714460"
      },
      "execution_count": null,
      "outputs": [
        {
          "output_type": "execute_result",
          "data": {
            "text/plain": [
              "torch.Size([2])"
            ]
          },
          "metadata": {},
          "execution_count": 9
        }
      ]
    },
    {
      "cell_type": "code",
      "source": [
        "# Matrix\n",
        "matrix = torch.tensor([[1,2,3], [4,5,6], [7,8,9]])\n",
        "matrix"
      ],
      "metadata": {
        "colab": {
          "base_uri": "https://localhost:8080/"
        },
        "id": "18E7--iXPJF1",
        "outputId": "4dc74e5f-2846-4f6b-a7fb-b955b9d40067"
      },
      "execution_count": null,
      "outputs": [
        {
          "output_type": "execute_result",
          "data": {
            "text/plain": [
              "tensor([[1, 2, 3],\n",
              "        [4, 5, 6],\n",
              "        [7, 8, 9]])"
            ]
          },
          "metadata": {},
          "execution_count": 2
        }
      ]
    },
    {
      "cell_type": "code",
      "source": [
        "matrix.shape"
      ],
      "metadata": {
        "id": "Hm2UR9aNPJBd",
        "colab": {
          "base_uri": "https://localhost:8080/"
        },
        "outputId": "e248fc10-c423-4027-f2f7-9d6463f88ced"
      },
      "execution_count": null,
      "outputs": [
        {
          "output_type": "execute_result",
          "data": {
            "text/plain": [
              "torch.Size([3, 3])"
            ]
          },
          "metadata": {},
          "execution_count": 3
        }
      ]
    },
    {
      "cell_type": "code",
      "source": [
        "matrix.ndim"
      ],
      "metadata": {
        "id": "VRGDvjzWPZDo",
        "outputId": "b8a965e5-f6c4-42d7-d540-395b90e2b9fe",
        "colab": {
          "base_uri": "https://localhost:8080/"
        }
      },
      "execution_count": null,
      "outputs": [
        {
          "output_type": "execute_result",
          "data": {
            "text/plain": [
              "2"
            ]
          },
          "metadata": {},
          "execution_count": 4
        }
      ]
    },
    {
      "cell_type": "code",
      "source": [
        "matrix[1]"
      ],
      "metadata": {
        "id": "1wNvkyr-PY_k",
        "colab": {
          "base_uri": "https://localhost:8080/"
        },
        "outputId": "4e788f3c-8fac-4544-b060-97d397b5d282"
      },
      "execution_count": null,
      "outputs": [
        {
          "output_type": "execute_result",
          "data": {
            "text/plain": [
              "tensor([4, 5, 6])"
            ]
          },
          "metadata": {},
          "execution_count": 5
        }
      ]
    },
    {
      "cell_type": "code",
      "source": [
        "#TENSOR\n",
        "TENSOR = torch.tensor([[[1,2,3],[4,5,6],[7,8,0]]])\n",
        "TENSOR"
      ],
      "metadata": {
        "colab": {
          "base_uri": "https://localhost:8080/"
        },
        "id": "j1xe5_0lQ4wY",
        "outputId": "09325e9d-3986-44da-c686-bab78ff3a9c2"
      },
      "execution_count": null,
      "outputs": [
        {
          "output_type": "execute_result",
          "data": {
            "text/plain": [
              "tensor([[[1, 2, 3],\n",
              "         [4, 5, 6],\n",
              "         [7, 8, 0]]])"
            ]
          },
          "metadata": {},
          "execution_count": 6
        }
      ]
    },
    {
      "cell_type": "code",
      "source": [
        "TENSOR.shape"
      ],
      "metadata": {
        "colab": {
          "base_uri": "https://localhost:8080/"
        },
        "id": "6bagq5tZQ4sx",
        "outputId": "ca0d76dc-5a02-4b4c-ca39-470d3cac6d66"
      },
      "execution_count": null,
      "outputs": [
        {
          "output_type": "execute_result",
          "data": {
            "text/plain": [
              "torch.Size([1, 3, 3])"
            ]
          },
          "metadata": {},
          "execution_count": 7
        }
      ]
    },
    {
      "cell_type": "code",
      "source": [
        "TENSOR.ndim"
      ],
      "metadata": {
        "colab": {
          "base_uri": "https://localhost:8080/"
        },
        "id": "gSUvjE3YQ4pp",
        "outputId": "5c443911-85b7-4889-d0c5-caf9ceecebee"
      },
      "execution_count": null,
      "outputs": [
        {
          "output_type": "execute_result",
          "data": {
            "text/plain": [
              "3"
            ]
          },
          "metadata": {},
          "execution_count": 8
        }
      ]
    },
    {
      "cell_type": "code",
      "source": [
        "TENSOR[0][0]"
      ],
      "metadata": {
        "colab": {
          "base_uri": "https://localhost:8080/"
        },
        "id": "vrlRNeHgQ4ly",
        "outputId": "8e0925ba-c7a6-44f3-b2b4-57cda6c12bb8"
      },
      "execution_count": null,
      "outputs": [
        {
          "output_type": "execute_result",
          "data": {
            "text/plain": [
              "tensor([1, 2, 3])"
            ]
          },
          "metadata": {},
          "execution_count": 11
        }
      ]
    },
    {
      "cell_type": "code",
      "source": [
        "TENSOR1 = torch.tensor([[[1,2,3],[4,5,6],[7,8,9]],\n",
        "                        [[2,3,4],[5,6,7],[8,9,0]]])\n",
        "TENSOR1"
      ],
      "metadata": {
        "colab": {
          "base_uri": "https://localhost:8080/"
        },
        "id": "D802ujeKRccw",
        "outputId": "ea2ac928-6fb5-46ea-ff36-f3b82bf07cf1"
      },
      "execution_count": null,
      "outputs": [
        {
          "output_type": "execute_result",
          "data": {
            "text/plain": [
              "tensor([[[1, 2, 3],\n",
              "         [4, 5, 6],\n",
              "         [7, 8, 9]],\n",
              "\n",
              "        [[2, 3, 4],\n",
              "         [5, 6, 7],\n",
              "         [8, 9, 0]]])"
            ]
          },
          "metadata": {},
          "execution_count": 15
        }
      ]
    },
    {
      "cell_type": "code",
      "source": [
        "TENSOR1.shape"
      ],
      "metadata": {
        "colab": {
          "base_uri": "https://localhost:8080/"
        },
        "id": "UUdg3BW9SDXu",
        "outputId": "1d738c6d-9f3f-4ee4-dde5-edf8afee4c3d"
      },
      "execution_count": null,
      "outputs": [
        {
          "output_type": "execute_result",
          "data": {
            "text/plain": [
              "torch.Size([2, 3, 3])"
            ]
          },
          "metadata": {},
          "execution_count": 16
        }
      ]
    },
    {
      "cell_type": "code",
      "source": [
        "TENSOR1.ndim"
      ],
      "metadata": {
        "colab": {
          "base_uri": "https://localhost:8080/"
        },
        "id": "6UZhiZgpSDUW",
        "outputId": "15d64b09-9b8f-477d-d9bc-68f57e94e93d"
      },
      "execution_count": null,
      "outputs": [
        {
          "output_type": "execute_result",
          "data": {
            "text/plain": [
              "3"
            ]
          },
          "metadata": {},
          "execution_count": 17
        }
      ]
    },
    {
      "cell_type": "code",
      "source": [
        "TENSOR1[1][0][1]"
      ],
      "metadata": {
        "colab": {
          "base_uri": "https://localhost:8080/"
        },
        "id": "DtQC4zWfSDRf",
        "outputId": "6e8a4c76-12bd-4893-d6d7-e7d506a7fc20"
      },
      "execution_count": null,
      "outputs": [
        {
          "output_type": "execute_result",
          "data": {
            "text/plain": [
              "tensor(3)"
            ]
          },
          "metadata": {},
          "execution_count": 23
        }
      ]
    },
    {
      "cell_type": "markdown",
      "source": [
        "## Random Tensors"
      ],
      "metadata": {
        "id": "_rj0Ae45UYf7"
      }
    },
    {
      "cell_type": "markdown",
      "source": [
        "The thing why we need random tensors is many neural networks learns with tensors full of random numbers.\n",
        "\n",
        "`Start with random numbers -> look at data -> update random numbers -> look at data -> update random numbers`"
      ],
      "metadata": {
        "id": "PeBb6Q-dUxvV"
      }
    },
    {
      "cell_type": "code",
      "source": [
        "# to create a random tensor of size(3,3)\n",
        "random_tensor = torch.rand(3,3)\n",
        "random_tensor"
      ],
      "metadata": {
        "colab": {
          "base_uri": "https://localhost:8080/"
        },
        "id": "qcAwDQEbUeif",
        "outputId": "cab8c3a3-641f-4585-9983-9c9707faf33e"
      },
      "execution_count": null,
      "outputs": [
        {
          "output_type": "execute_result",
          "data": {
            "text/plain": [
              "tensor([[0.4332, 0.5881, 0.4528],\n",
              "        [0.4887, 0.5225, 0.3095],\n",
              "        [0.4706, 0.9388, 0.8648]])"
            ]
          },
          "metadata": {},
          "execution_count": 24
        }
      ]
    },
    {
      "cell_type": "code",
      "source": [
        "rand_tensor = torch.rand(5,5,5)\n",
        "rand_tensor"
      ],
      "metadata": {
        "colab": {
          "base_uri": "https://localhost:8080/"
        },
        "id": "0iM_kX56VyzI",
        "outputId": "28044d20-6cdb-41c6-8c87-6b92fc838333"
      },
      "execution_count": null,
      "outputs": [
        {
          "output_type": "execute_result",
          "data": {
            "text/plain": [
              "tensor([[[0.0453, 0.2699, 0.9944, 0.4020, 0.2978],\n",
              "         [0.6314, 0.9492, 0.1711, 0.8930, 0.4773],\n",
              "         [0.7220, 0.0354, 0.5601, 0.7552, 0.0736],\n",
              "         [0.3528, 0.9262, 0.5396, 0.9220, 0.0473],\n",
              "         [0.9628, 0.3481, 0.7733, 0.0256, 0.3944]],\n",
              "\n",
              "        [[0.5615, 0.0924, 0.7252, 0.7588, 0.6852],\n",
              "         [0.6299, 0.9559, 0.2746, 0.5524, 0.1053],\n",
              "         [0.2321, 0.7987, 0.2874, 0.8829, 0.2682],\n",
              "         [0.6354, 0.8883, 0.1866, 0.4468, 0.5713],\n",
              "         [0.7767, 0.0605, 0.2170, 0.6862, 0.9124]],\n",
              "\n",
              "        [[0.1099, 0.3090, 0.6197, 0.9133, 0.7953],\n",
              "         [0.3714, 0.6502, 0.9888, 0.2721, 0.9915],\n",
              "         [0.2516, 0.2876, 0.3053, 0.7816, 0.2130],\n",
              "         [0.4749, 0.3775, 0.2236, 0.3020, 0.5756],\n",
              "         [0.8309, 0.6070, 0.1766, 0.5378, 0.3437]],\n",
              "\n",
              "        [[0.6737, 0.9131, 0.4980, 0.8451, 0.4017],\n",
              "         [0.4584, 0.8124, 0.6849, 0.6740, 0.0268],\n",
              "         [0.5902, 0.5547, 0.0060, 0.2896, 0.5130],\n",
              "         [0.2743, 0.8551, 0.8446, 0.3942, 0.2375],\n",
              "         [0.3591, 0.1257, 0.7353, 0.3009, 0.9126]],\n",
              "\n",
              "        [[0.8292, 0.0689, 0.8844, 0.7746, 0.0648],\n",
              "         [0.7383, 0.5193, 0.4094, 0.4787, 0.8217],\n",
              "         [0.8298, 0.3077, 0.4275, 0.1911, 0.9259],\n",
              "         [0.7214, 0.8357, 0.4829, 0.1275, 0.9634],\n",
              "         [0.1147, 0.9275, 0.0020, 0.6819, 0.6171]]])"
            ]
          },
          "metadata": {},
          "execution_count": 25
        }
      ]
    },
    {
      "cell_type": "code",
      "source": [
        "rand_tensor.shape"
      ],
      "metadata": {
        "colab": {
          "base_uri": "https://localhost:8080/"
        },
        "id": "9RNi36xYV_XM",
        "outputId": "8da96f6d-bdfc-4082-ac6d-218fc7236962"
      },
      "execution_count": null,
      "outputs": [
        {
          "output_type": "execute_result",
          "data": {
            "text/plain": [
              "torch.Size([5, 5, 5])"
            ]
          },
          "metadata": {},
          "execution_count": 26
        }
      ]
    },
    {
      "cell_type": "code",
      "source": [
        "# to create a tensor which has similiar shape to an image tensor\n",
        "random_image_size_tensor = torch.rand(size=(224,224,3)) # height, width, color channel(RGB)\n",
        "random_image_size_tensor.shape, random_image_size_tensor.ndim"
      ],
      "metadata": {
        "colab": {
          "base_uri": "https://localhost:8080/"
        },
        "id": "WcvLdIBkWrcu",
        "outputId": "20541695-d250-441b-8a00-2b42aaaa775d"
      },
      "execution_count": null,
      "outputs": [
        {
          "output_type": "execute_result",
          "data": {
            "text/plain": [
              "(torch.Size([224, 224, 3]), 3)"
            ]
          },
          "metadata": {},
          "execution_count": 28
        }
      ]
    },
    {
      "cell_type": "code",
      "source": [
        "random_image_size_tensor[:2]"
      ],
      "metadata": {
        "colab": {
          "base_uri": "https://localhost:8080/"
        },
        "id": "hf8-7zu1Xcl8",
        "outputId": "640db7b0-e3c2-4e7f-c482-b9c4a2df5097"
      },
      "execution_count": null,
      "outputs": [
        {
          "output_type": "execute_result",
          "data": {
            "text/plain": [
              "tensor([[[0.7075, 0.0664, 0.2410],\n",
              "         [0.1487, 0.6459, 0.2021],\n",
              "         [0.0575, 0.5170, 0.9599],\n",
              "         ...,\n",
              "         [0.6228, 0.1344, 0.1231],\n",
              "         [0.5356, 0.4020, 0.9970],\n",
              "         [0.8234, 0.6750, 0.1802]],\n",
              "\n",
              "        [[0.3350, 0.0207, 0.2667],\n",
              "         [0.3804, 0.5202, 0.4795],\n",
              "         [0.3642, 0.1032, 0.5504],\n",
              "         ...,\n",
              "         [0.7041, 0.7818, 0.7376],\n",
              "         [0.7014, 0.4641, 0.0352],\n",
              "         [0.6823, 0.4729, 0.3605]]])"
            ]
          },
          "metadata": {},
          "execution_count": 30
        }
      ]
    },
    {
      "cell_type": "markdown",
      "source": [
        "### Zeros and Ones"
      ],
      "metadata": {
        "id": "neZ1vH52YXr3"
      }
    },
    {
      "cell_type": "code",
      "source": [
        "# to create a tensor with zeros\n",
        "zeros = torch.zeros(2,3)\n",
        "zeros"
      ],
      "metadata": {
        "colab": {
          "base_uri": "https://localhost:8080/"
        },
        "id": "azzg_eqjYUVT",
        "outputId": "56f288ba-413c-44ef-f77a-438249cfecfe"
      },
      "execution_count": null,
      "outputs": [
        {
          "output_type": "execute_result",
          "data": {
            "text/plain": [
              "tensor([[0., 0., 0.],\n",
              "        [0., 0., 0.]])"
            ]
          },
          "metadata": {},
          "execution_count": 31
        }
      ]
    },
    {
      "cell_type": "code",
      "source": [
        "# to create a tensor with ones\n",
        "ones = torch.ones(4,4)\n",
        "ones"
      ],
      "metadata": {
        "colab": {
          "base_uri": "https://localhost:8080/"
        },
        "id": "CDg5Sbp_YUR8",
        "outputId": "52a922c4-0a2e-4fcf-9646-34adec57b19c"
      },
      "execution_count": null,
      "outputs": [
        {
          "output_type": "execute_result",
          "data": {
            "text/plain": [
              "tensor([[1., 1., 1., 1.],\n",
              "        [1., 1., 1., 1.],\n",
              "        [1., 1., 1., 1.],\n",
              "        [1., 1., 1., 1.]])"
            ]
          },
          "metadata": {},
          "execution_count": 32
        }
      ]
    },
    {
      "cell_type": "code",
      "source": [
        "ones.dtype"
      ],
      "metadata": {
        "colab": {
          "base_uri": "https://localhost:8080/"
        },
        "id": "5Zyz8sN7YUN7",
        "outputId": "59ed15a2-ebf9-41de-af12-9f91f8f033f8"
      },
      "execution_count": null,
      "outputs": [
        {
          "output_type": "execute_result",
          "data": {
            "text/plain": [
              "torch.float32"
            ]
          },
          "metadata": {},
          "execution_count": 33
        }
      ]
    },
    {
      "cell_type": "markdown",
      "source": [
        "## Create a range of tensors"
      ],
      "metadata": {
        "id": "zbNsoVBTeP_C"
      }
    },
    {
      "cell_type": "code",
      "source": [
        "torch.range(5,20)"
      ],
      "metadata": {
        "colab": {
          "base_uri": "https://localhost:8080/"
        },
        "id": "ugYHmcZ6eWwW",
        "outputId": "8eaad4fc-56b7-4e56-eff6-0cd4894dc53d"
      },
      "execution_count": null,
      "outputs": [
        {
          "output_type": "stream",
          "name": "stderr",
          "text": [
            "<ipython-input-34-e9c547590717>:1: UserWarning: torch.range is deprecated and will be removed in a future release because its behavior is inconsistent with Python's range builtin. Instead, use torch.arange, which produces values in [start, end).\n",
            "  torch.range(5,20)\n"
          ]
        },
        {
          "output_type": "execute_result",
          "data": {
            "text/plain": [
              "tensor([ 5.,  6.,  7.,  8.,  9., 10., 11., 12., 13., 14., 15., 16., 17., 18.,\n",
              "        19., 20.])"
            ]
          },
          "metadata": {},
          "execution_count": 34
        }
      ]
    },
    {
      "cell_type": "code",
      "source": [
        "two_to_20 = torch.arange(2,20,4)"
      ],
      "metadata": {
        "id": "genOwxplgsEF"
      },
      "execution_count": null,
      "outputs": []
    },
    {
      "cell_type": "code",
      "source": [
        "# to create tensors like other tensors\n",
        "zeros1 = torch.zeros_like(two_to_20)\n",
        "zeros1"
      ],
      "metadata": {
        "colab": {
          "base_uri": "https://localhost:8080/"
        },
        "id": "iSb5wWdXh-Fc",
        "outputId": "a4ba5206-d69d-4cda-c095-f4cab80e4be1"
      },
      "execution_count": null,
      "outputs": [
        {
          "output_type": "execute_result",
          "data": {
            "text/plain": [
              "tensor([0, 0, 0, 0, 0])"
            ]
          },
          "metadata": {},
          "execution_count": 41
        }
      ]
    },
    {
      "cell_type": "code",
      "source": [
        "# default datatype of a tensor is float32\n",
        "\n",
        "t1 = torch.tensor([1.0,2,3],\n",
        "                  dtype=torch.float32,\n",
        "                  device=None,\n",
        "                  requires_grad=False)"
      ],
      "metadata": {
        "id": "S-K25w_3kFHh"
      },
      "execution_count": null,
      "outputs": []
    },
    {
      "cell_type": "markdown",
      "source": [
        "#Tensor manipulations"
      ],
      "metadata": {
        "id": "WEwTR03Hffzu"
      }
    },
    {
      "cell_type": "code",
      "source": [
        "tensor1 = torch.tensor([1,2,3])\n",
        "print(\"Tensor addition: \",tensor1+tensor1)\n",
        "print(\"Tensor subtraction: \",tensor1-2)\n",
        "print(\"Tensor Multiplication (element wise): \",tensor1*5)\n",
        "print(\"Tensor Division: \",tensor1/2)\n",
        "print(\"Matrix Multiplication: \",torch.matmul(tensor1,tensor1))"
      ],
      "metadata": {
        "id": "PsD0zr3afm1u"
      },
      "execution_count": null,
      "outputs": []
    }
  ]
}